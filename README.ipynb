{
 "cells": [
  {
   "cell_type": "markdown",
   "id": "c24f08b9",
   "metadata": {},
   "source": [
    "# Python Tutor Visualization\n",
    "This jupyter extension is to make it easy to view on pythontutor the code of each cell of a jupyter notebook..\n",
    "\n",
    "### Installation\n",
    "Install and enable this extension on your Jupyter server\n",
    "\n",
    "```git clone https://gitlab.sorbonne-paris-nord.fr/11928898/visual_pytutor.git\n",
    "jupyter nbextension install visual_pytutor\n",
    "jupyter nbextension enable visual_pytutor/visual_pytutor/main```"
   ]
  },
  {
   "cell_type": "markdown",
   "id": "0a9af036",
   "metadata": {},
   "source": [
    "### Guide\n",
    "\n",
    "After loading the notebook, all button are created. Once a cell is of type code and its **visualization** metadata is true or by default is not defined, a button <span title='Python tutor' style=' cursor: pointer; color: #333; padding-top: 5px; padding-bottom: 5px; padding-left: 2ex; padding-right: 2ex; width: 1ex; '><i class='fa fa-eye'></i></span> is added to the cell. You can also do this action by clicking on a button which is in the menu of the toolbar if a cell is of type code.\n"
   ]
  },
  {
   "cell_type": "markdown",
   "id": "54a03973",
   "metadata": {},
   "source": [
    "#### Markdown type cell\n",
    "\n",
    "This cell will not have a **Python Tutor** button.\n"
   ]
  },
  {
   "cell_type": "raw",
   "id": "69dc3bba",
   "metadata": {},
   "source": [
    "#### RAW type cell\n",
    "This cell will not have a **Python Tutor** button.\n"
   ]
  },
  {
   "cell_type": "markdown",
   "id": "a8345b74",
   "metadata": {},
   "source": [
    "#### Code type cell\n",
    "\n",
    "This cell below is of type code but its **visualization metadata** is **false**, so it will not have a **Python Tutor** button\n"
   ]
  },
  {
   "cell_type": "code",
   "execution_count": 1,
   "id": "f9120016",
   "metadata": {
    "visualization": false
   },
   "outputs": [
    {
     "name": "stdout",
     "output_type": "stream",
     "text": [
      "la valeur de x est :  1\n"
     ]
    }
   ],
   "source": [
    "x=1\n",
    "print(\"la valeur de x est : \",x)"
   ]
  },
  {
   "cell_type": "markdown",
   "id": "2dde8727",
   "metadata": {},
   "source": [
    "#### Alert emppy cell\n",
    "\n",
    "This cell below is of type code but empty, so after clicking on the button an alert message is displayed\n"
   ]
  },
  {
   "cell_type": "code",
   "execution_count": null,
   "id": "7212022b",
   "metadata": {},
   "outputs": [],
   "source": []
  },
  {
   "cell_type": "markdown",
   "id": "e8877dc8",
   "metadata": {},
   "source": [
    "#### Code type cell\n",
    "\n",
    "This cell below is of type code and its **visualization metadata** is **true** and not empty, so it will have a **Python Tutor** button\n"
   ]
  },
  {
   "cell_type": "code",
   "execution_count": null,
   "id": "68f5b3d8",
   "metadata": {
    "visualization": true
   },
   "outputs": [],
   "source": [
    "x=34\n",
    "print(\"The value of 'x' is : \",x)"
   ]
  },
  {
   "cell_type": "code",
   "execution_count": null,
   "id": "1e6e5a6a",
   "metadata": {},
   "outputs": [],
   "source": [
    "\n",
    "\n",
    "T=[0,0,0,0,0,0,0,0,0,0,0,0,0]\n",
    "val=5\n",
    "print(\"Before : \", T)\n",
    "#This code is used to replace the value of a cell in the array T by \"val\" if its index is an even number\n",
    "for i in range(len(T)):\n",
    "    if(i%2 !=0):\n",
    "        T[i]=val\n",
    "        \n",
    "print(\"After: \", T)\n"
   ]
  },
  {
   "cell_type": "markdown",
   "id": "685d7470",
   "metadata": {},
   "source": [
    "#### Code type cell\n",
    "\n",
    "You can also create or add cells, they will be empty at the beginning so if no code is written there, an alert message is displayed when you click on the **Python tutor** button. You can also change the of a cell, change it from type **code** to **markdonw** and vice versa or other combination, the button will adapt automatically.\n"
   ]
  }
 ],
 "metadata": {
  "kernelspec": {
   "display_name": "Python 3",
   "language": "python",
   "name": "python3"
  },
  "language_info": {
   "codemirror_mode": {
    "name": "ipython",
    "version": 3
   },
   "file_extension": ".py",
   "mimetype": "text/x-python",
   "name": "python",
   "nbconvert_exporter": "python",
   "pygments_lexer": "ipython3",
   "version": "3.8.5"
  }
 },
 "nbformat": 4,
 "nbformat_minor": 5
}