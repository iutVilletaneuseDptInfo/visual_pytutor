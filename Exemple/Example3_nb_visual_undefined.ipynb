{
 "cells": [
  {
   "cell_type": "markdown",
   "metadata": {},
   "source": [
    "# This notebook has metadata `visualization :  undefined`\n",
    "\n",
    "So, once the notebook is loaded, cells that do not have the `visualization` metadata will have a button if the `add default button` checkbox is enabled in the extension settings.<div title='Python tutor' style=' cursor: pointer; color: #333;'><i class='fa fa-eye'></i><span class='toolbar-btn-label'>Python Tutor</span></div>\n"
   ]
  },
  {
   "cell_type": "markdown",
   "metadata": {},
   "source": [
    "### Guide\n",
    "\n",
    "After loading the notebook, all button are created. Once a cell is of type code and its `visualization` metadata is true or by default is not defined, a button <span title='Python tutor' style=' cursor: pointer; color: #333; padding-top: 5px; padding-bottom: 5px; padding-left: 2ex; padding-right: 2ex; width: 1ex; '><i class='fa fa-eye'></i></span> is added to the cell. You do this action by clicking in a button PT locate on the toobar menu\n"
   ]
  },
  
  {
   "cell_type": "markdown",
   "metadata": {},
   "source": [
    "\n",
    "This cell below is of type code and the `visualization` metadata is `undefined`, so the presence of the button depends on the notebook or the settings. In this case, the notebook's `metadata` is `undefined`, so the `Python Tutor` button will appear if only the `add default button` checkbox is enabled in the extension settings.\n"
   ]
  },
  {
   "cell_type": "code",
   "execution_count": null,
   "metadata": {},
   "outputs": [],
   "source": [
"print(\"This cell has visualization is undefined and Python Tutor button depends on the settings\")"   ]
  },
  {
   "cell_type": "markdown",
   "metadata": {},
   "source": [
    "#### Markdown type cell\n",
    "\n",
    "This cell will not have a **Python Tutor** button.\n"
   ]
  },
  {
   "cell_type": "raw",
   "metadata": {},
   "source": [
    "RAW type cell\n",
    "This cell will not have a Python Tutor button.\n"
   ]
  },
  {
   "cell_type": "markdown",
   "metadata": {},
   "source": [
    "#### Code type cell\n",
    "\n",
    "This cell below is of type code but its **visualization metadata** is **false**, so it will not have a **Python Tutor** button in all cases.\n"
   ]
  },
  {
   "cell_type": "code",
   "execution_count": null,
   "metadata": {
    "visualization": false
   },
   "outputs": [],
   "source": [
    "x=1\n",
    "print(\"the value of is : \",x)"
   ]
  },
  {
   "cell_type": "markdown",
   "metadata": {},
   "source": [
    "\n",
    "This cell below is of type code and its **visualization metadata** is **true** and not empty, so it will have a **Python Tutor** button\n"
   ]
  },
  {
   "cell_type": "code",
   "execution_count": null,
   "metadata": {"visualization": true},
   "outputs": [],
   "source": [
"print(\"this cell has visualization true\")"   ]
  },
  {
   "cell_type": "code",
   "execution_count": null,
   "metadata": {
    "visualization": true
   },
   "outputs": [],
   "source": [
    "\n",
    "\n",
    "T=[0,0,0,0,0,0,0,0,0,0,0,0,0]\n",
    "val=5\n",
    "print(\"Before : \", T)\n",
    "#This code is used to replace the value of a cell in the array T by \"val\" if its index is an even number\n",
    "for i in range(len(T)):\n",
    "    if(i%2 !=0):\n",
    "        T[i]=val\n",
    "        \n",
    "print(\"After: \", T)\n"
   ]
  },
  {
   "cell_type": "markdown",
   "metadata": {},
   "source": [
    "#### Alert emppy cell\n",
    "\n",
    "This cell below is of type code but empty, so after clicking on the button an alert message is displayed\n"
   ]
  },
  {
   "cell_type": "code",
   "execution_count": null,
   "metadata": {
    "visualization": true
   },
   "outputs": [],
   "source": []
  },
  {
   "cell_type": "markdown",
   "metadata": {},
   "source": [
    "\n",
    "You can also create or add cells, they will be empty at the beginning so if no code is written there, an alert message is displayed when you click on the **Python tutor** button. You can also change the of a cell, change it from type **code** to **markdonw** and vice versa or other combination, the button will adapt automatically.\n"
   ]
  }
 ],
 "metadata": {
  "kernelspec": {
   "display_name": "Python 3",
   "language": "python",
   "name": "python3"
  },
  "language_info": {
   "codemirror_mode": {
    "name": "ipython",
    "version": 3
   },
   "file_extension": ".py",
   "mimetype": "text/x-python",
   "name": "python",
   "nbconvert_exporter": "python",
   "pygments_lexer": "ipython3",
   "version": "3.8.5"
  }
},
 "nbformat": 4,
 "nbformat_minor": 5
}
